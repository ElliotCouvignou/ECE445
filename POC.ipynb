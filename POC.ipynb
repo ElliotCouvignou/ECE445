{
 "cells": [
  {
   "cell_type": "code",
   "execution_count": 1,
   "metadata": {},
   "outputs": [
    {
     "name": "stdout",
     "output_type": "stream",
     "text": [
      "Transcribing audio file # 1...\n",
      "Transcript Recognizes Stereo audio\n",
      "Transcribing audio file # 2...\n",
      "Transcript Recognizes Stereo audio\n",
      "Transcription finished\n"
     ]
    }
   ],
   "source": [
    "### REAL POC CELL ##\n",
    "\n",
    "\"\"\"\n",
    "Created on Mon Feb 10 16:36:55 2020\n",
    "No stealy \n",
    "@author: ecouv\n",
    "\"\"\"\n",
    "# Qt5 related stuff\n",
    "from PyQt5.QtWidgets import QApplication, QMainWindow, QMenu, QVBoxLayout, QSizePolicy, QMessageBox, QWidget, QPushButton\n",
    "from PyQt5.QtGui import QIcon\n",
    "\n",
    "from PyQt5 import QtWidgets\n",
    "\n",
    "import sys\n",
    "sys.path.insert(0, 'UserInterface/')\n",
    "from GUI import Ui_TranscriptEditor\n",
    "import Render\n",
    "\n",
    "\n",
    "# transcription library stuff\n",
    "from scipy.io import wavfile\n",
    "from scipy import signal\n",
    "import matplotlib.pyplot as plt\n",
    "import matplotlib\n",
    "matplotlib.use('Qt5Agg') # for QT5\n",
    "\n",
    "# stuff\n",
    "import math\n",
    "import numpy as np\n",
    "import time\n",
    "import speech_recognition as sr\n",
    "import os\n",
    "from pathlib import Path\n",
    "import copy\n",
    "from DSP import sound\n",
    "from audio2numpy import open_audio\n",
    "\n",
    "## run this cell if you want to update your IBM transcripts\n",
    "\n",
    "fp= 'RawAudio/djstep_Tim_1min_filtered.mp3'\n",
    "fpp= 'RawAudio/djstep_himself_1min.mp3'\n",
    "tp = 'RawAudio/bhuv.mp3'\n",
    "vp = 'RawAudio/sai.mp3'\n",
    "\n",
    "# translate API transcript to one easier to use\n",
    "print('Transcribing audio file # 1...')\n",
    "transcript1 = Render.Transcript()\n",
    "transcript1.ibm_recog('bhuv.mp3',tp)\n",
    "\n",
    "print('Transcribing audio file # 2...')\n",
    "transcript2 = Render.Transcript()\n",
    "transcript2.ibm_recog('sai.mp3',vp)\n",
    "\n",
    "#print(transcript1.sr, transcript2.sr)\n",
    "\n",
    "print('Transcription finished')"
   ]
  },
  {
   "cell_type": "code",
   "execution_count": null,
   "metadata": {
    "scrolled": false
   },
   "outputs": [
    {
     "name": "stdout",
     "output_type": "stream",
     "text": [
      "Launching UI\n"
     ]
    }
   ],
   "source": [
    "## run this if you want to keep transcripts same as last run\n",
    "\n",
    "\n",
    "\n",
    "# C:\\Users\\ecouv\\Anaconda3\\lib\\site-packages\\IPython\\core\\interactiveshell.py:3327: UserWarning: To exit: use 'exit', 'quit', or Ctrl-D.\n",
    "#  warn(\"To exit: use 'exit', 'quit', or Ctrl-D.\", stacklevel=1)\n",
    "\n",
    "\n",
    "\n",
    "# GUI TESTING\n",
    "print('Launching UI')\n",
    "qApp = QtWidgets.QApplication(sys.argv)\n",
    "\n",
    "# aw = ApplicationWindow, currently using TranscriptEditor from qtdesign\n",
    "aw = Ui_TranscriptEditor()\n",
    "aw.setupUi(aw)\n",
    "aw.setupUiManual()\n",
    "\n",
    "tarray = [transcript1, transcript2]\n",
    "#tarray = [transcript1]\n",
    "'''\n",
    "# sound widgets\n",
    "main = np.empty\n",
    "mainlen = 0\n",
    "for i in range(len(tarray)):\n",
    "    if(mainlen == 0):\n",
    "        main = copy.deepcopy(tarray[i].audio)\n",
    "        mainlen = 1\n",
    "    else:\n",
    "        #print(tarray[i].audio.shape, main.shape)\n",
    "        leng = tarray[i].audio.shape[0]-1\n",
    "        main[:leng,:] += tarray[i].audio[:main.shape[0]-1,:]\n",
    "            \n",
    "    sound(tarray[i].audio.transpose(), tarray[i].sr, 'Raw Sound #' + str(i))\n",
    "sound(main.transpose(), tarray[i].sr, 'Raw Main Sound')\n",
    "'''\n",
    "aw.launchInit(tarray, len(tarray))\n",
    "\n",
    "aw.show()\n",
    "#sys.exit(qApp.exec())\n",
    "qApp.exec()\n",
    "\n",
    "# C:\\Users\\ecouv\\Anaconda3\\lib\\site-packages\\IPython\\core\\interactiveshell.py:3327: UserWarning: To exit: use 'exit', 'quit', or Ctrl-D.\n",
    "#  warn(\"To exit: use 'exit', 'quit', or Ctrl-D.\", stacklevel=1)\n",
    "\n",
    "\n"
   ]
  },
  {
   "cell_type": "code",
   "execution_count": null,
   "metadata": {},
   "outputs": [],
   "source": []
  },
  {
   "cell_type": "code",
   "execution_count": null,
   "metadata": {},
   "outputs": [],
   "source": []
  }
 ],
 "metadata": {
  "kernelspec": {
   "display_name": "Python 3",
   "language": "python",
   "name": "python3"
  },
  "language_info": {
   "codemirror_mode": {
    "name": "ipython",
    "version": 3
   },
   "file_extension": ".py",
   "mimetype": "text/x-python",
   "name": "python",
   "nbconvert_exporter": "python",
   "pygments_lexer": "ipython3",
   "version": "3.7.4"
  }
 },
 "nbformat": 4,
 "nbformat_minor": 2
}
