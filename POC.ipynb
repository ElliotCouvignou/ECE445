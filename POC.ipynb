{
 "cells": [
  {
   "cell_type": "code",
   "execution_count": 3,
   "metadata": {
    "scrolled": true
   },
   "outputs": [
    {
     "name": "stdout",
     "output_type": "stream",
     "text": [
      "Launching UI\n"
     ]
    },
    {
     "ename": "SystemExit",
     "evalue": "0",
     "output_type": "error",
     "traceback": [
      "An exception has occurred, use %tb to see the full traceback.\n",
      "\u001b[0;31mSystemExit\u001b[0m\u001b[0;31m:\u001b[0m 0\n"
     ]
    }
   ],
   "source": [
    "### REAL POC CELL ##\n",
    "\n",
    "\"\"\"\n",
    "Created on Mon Feb 10 16:36:55 2020\n",
    "No stealy \n",
    "@author: ecouv\n",
    "\"\"\"\n",
    "# Qt5 related stuff\n",
    "from PyQt5.QtWidgets import QApplication, QMainWindow, QMenu, QVBoxLayout, QSizePolicy, QMessageBox, QWidget, QPushButton\n",
    "from PyQt5.QtGui import QIcon\n",
    "\n",
    "from PyQt5 import QtWidgets\n",
    "\n",
    "import sys\n",
    "sys.path.insert(0, 'UserInterface/')\n",
    "from GUI import Ui_TranscriptEditor\n",
    "import Render\n",
    "\n",
    "\n",
    "# transcription library stuff\n",
    "from google.cloud import speech_v1\n",
    "from scipy.io import wavfile\n",
    "from scipy import signal\n",
    "import matplotlib.pyplot as plt\n",
    "import matplotlib\n",
    "matplotlib.use('Qt5Agg') # for QT5\n",
    "\n",
    "# stuff\n",
    "import math\n",
    "import numpy as np\n",
    "import time\n",
    "import speech_recognition as sr\n",
    "import os\n",
    "from pathlib import Path\n",
    "import copy\n",
    "\n",
    "fp= 'RawAudio/case1.wav'\n",
    "fpp='RawAudio/case2.wav'\n",
    "\n",
    "\n",
    "# translate API transcript to one easier to use\n",
    "transcript1 = Render.Transcript()\n",
    "transcript1.ibm_recog('case1.wav',fp,'audio/wav')\n",
    "\n",
    "transcript2 = Render.Transcript()\n",
    "transcript2.ibm_recog('case2.wav',fpp,'audio/wav')\n",
    "\n",
    "\n",
    "# GUI TESTING\n",
    "print('Launching UI')\n",
    "qApp = QtWidgets.QApplication(sys.argv)\n",
    "\n",
    "# aw = ApplicationWindow, currently using TranscriptEditor from qtdesign\n",
    "aw = Ui_TranscriptEditor()\n",
    "aw.setupUi(aw)\n",
    "aw.setupUiManual()\n",
    "\n",
    "tarray = [transcript1, transcript2]\n",
    "aw.launchInit(tarray, 2)\n",
    "\n",
    "aw.show()\n",
    "sys.exit(qApp.exec_())\n",
    "\n"
   ]
  },
  {
   "cell_type": "code",
   "execution_count": null,
   "metadata": {},
   "outputs": [],
   "source": []
  },
  {
   "cell_type": "code",
   "execution_count": null,
   "metadata": {},
   "outputs": [],
   "source": []
  }
 ],
 "metadata": {
  "kernelspec": {
   "display_name": "Python 3",
   "language": "python",
   "name": "python3"
  },
  "language_info": {
   "codemirror_mode": {
    "name": "ipython",
    "version": 3
   },
   "file_extension": ".py",
   "mimetype": "text/x-python",
   "name": "python",
   "nbconvert_exporter": "python",
   "pygments_lexer": "ipython3",
   "version": "3.7.4"
  }
 },
 "nbformat": 4,
 "nbformat_minor": 2
}
